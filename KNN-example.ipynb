{
 "cells": [
  {
   "cell_type": "markdown",
   "metadata": {},
   "source": [
    "# Introduction"
   ]
  },
  {
   "cell_type": "markdown",
   "metadata": {},
   "source": [
    "In this notebook, we walk through a classification example using K Nearest Neighbors (KNN). This notebook does binary classification in R.\n",
    "\n",
    "Recall how K nearest neighbors works: For each data point we want to classify, we find its nearest neighbors (by distance) in the training set. Then, we classify the point based on how many of its neighbors belong to each class.  \n",
    "\n",
    "We limit ourselves to studying binary classification, i.e. each data point can be classified as either a $0$ or a $1$. \n",
    "\n",
    "\n",
    "KNN is parametrized by the following values:\n",
    "1. $K$: The number of neighbors we consider for the new data point.\n",
    "1. $L$: The number of neighbors that need to be a $1$ in order to classify the point as so. In other words, when $L = K/2$, we are taking a majority vote on the neighbors in order to classify the data points. (For now, ignore rounding issues with K, and whether a majority means exactly half or slightly more than half)\n",
    "1. $N$: The number of points in our training dataset. \n",
    "\n",
    "How to read this notebook:\n",
    "1. We assume you have watched all the modules in Lecture 3 where the KNN classifier is discussed.\n",
    "1. We include the code for your information, but do not expect you to understand what each line is doing if you've never seen R code before. If you wish, you may skip reading any of the code boxes, and just read the text and the plots that are outputted. Similarly, we provide this notebook both in pdf format, and in a IPython Notebook that you can run yourself.\n",
    "1. In each plot, we will trade off Accuracy (or some other metric) with a KNN parameter. We will also show the difference between _test_ and _train_ performance.\n",
    "\n",
    "By the end of this notebook, you will observe and should be able to explain:\n",
    "1. How performance changes with the size of the training dataset. \n",
    "1. Why there is a difference between test and training error.\n",
    "1. How $K$ relates to _overfitting_ and _underfitting_. \n",
    "1. How $L$ changes the ratio of _false positives_ and _false negatives_, and why $L = K/2$ maximizes accuracy.\n"
   ]
  },
  {
   "cell_type": "markdown",
   "metadata": {},
   "source": [
    "# Setup and installation"
   ]
  },
  {
   "cell_type": "markdown",
   "metadata": {},
   "source": [
    "If you wish to run this notebook, you'll need to install Jupyter Notebook from https://jupyter.org/, the R programming language, and the R kernel for Jupyter Notebooks from https://irkernel.github.io/installation/. "
   ]
  },
  {
   "cell_type": "markdown",
   "metadata": {},
   "source": [
    "This specific notebooks also requires several packages. To install packages in R, use install.packages as we do in the next cell. We have the code commented out at the moment so we do not overwrite packages that you already have installed."
   ]
  },
  {
   "cell_type": "code",
   "execution_count": 1,
   "metadata": {
    "ExecuteTime": {
     "end_time": "2019-03-29T15:12:56.006411Z",
     "start_time": "2019-03-29T15:12:55.779Z"
    }
   },
   "outputs": [],
   "source": [
    "#install.packages('plyr')\n",
    "#install.packages('ggplot2')\n",
    "#install.packages('class')\n",
    "#install.packages('Hmisc')\n",
    "# install.packages('ggrepel')"
   ]
  },
  {
   "cell_type": "markdown",
   "metadata": {},
   "source": [
    "Just for display purposes in this notebook, we suppress all warnings. If you are running this notebook yourself, you may find it useful to remove this line."
   ]
  },
  {
   "cell_type": "code",
   "execution_count": 2,
   "metadata": {
    "ExecuteTime": {
     "end_time": "2019-03-29T15:12:56.049415Z",
     "start_time": "2019-03-29T15:12:55.788Z"
    }
   },
   "outputs": [],
   "source": [
    "options(warn=-1)"
   ]
  },
  {
   "cell_type": "markdown",
   "metadata": {},
   "source": [
    "After installing the necessary packages, we now load them. "
   ]
  },
  {
   "cell_type": "code",
   "execution_count": null,
   "metadata": {
    "ExecuteTime": {
     "end_time": "2019-03-29T15:16:31.227681Z",
     "start_time": "2019-03-29T15:13:19.635Z"
    }
   },
   "outputs": [],
   "source": [
    "library(plyr)\n",
    "library(ggplot2)\n",
    "library(class)\n",
    "library(Hmisc)\n",
    "library(ggrepel)"
   ]
  },
  {
   "cell_type": "markdown",
   "metadata": {},
   "source": [
    "# Main Code"
   ]
  },
  {
   "cell_type": "markdown",
   "metadata": {},
   "source": [
    "## Helper functions"
   ]
  },
  {
   "cell_type": "markdown",
   "metadata": {},
   "source": [
    "The following functions sample data, which we will use to train and test our classifier. The first samples our X data, i.e. our covariates or features. The second function samples a response variable, i.e. our output, for each of the covariates. In this notebook, we assume the following _population model_:\n",
    "\n",
    "We have two _covariates_ that are drawn from a Normal distribution with mean $0$ and variance $1$, i.e. for each data point we have $$ X_1, X_2 \\sim Normal (0, 1) $$\n",
    "\n",
    "Then, we assume that the _response_ variable is related to $X$ as follows:\n",
    "$$ Y = \\begin{cases} 1 & \\text{with probability } \\frac{c}{1+c} \\\\ 0 &  \\text{with probability } 1 - \\frac{c}{1+c}\\end{cases} $$\n",
    "Where $$c = e^{2 X_1 + 3 X_2}$$\n",
    "\n",
    "This type of response is said to follow a _logistic model_. \n",
    "\n",
    "Note that a _Normal_ distribution, and a _logistic model_ is a particular type of random distribution that is typically assumed for covariate distributions in data science, as they often show up in real life.\n",
    "\n",
    "It is not necessary to understand exactly the components of this population, as long as you understand what it means to have 2 covariates, and 1 response variable. \n"
   ]
  },
  {
   "cell_type": "code",
   "execution_count": 4,
   "metadata": {
    "ExecuteTime": {
     "end_time": "2019-03-29T15:12:58.131414Z",
     "start_time": "2019-03-29T15:12:55.798Z"
    }
   },
   "outputs": [],
   "source": [
    "sample_data <- function(N){\n",
    "    X1 = rnorm(N,0,1)\n",
    "    X2 = rnorm(N,0,1)\n",
    "    return (cbind(X1,X2))\n",
    "}\n",
    "\n",
    "draw_response <- function(covariates){\n",
    "    pi_x <- exp(2 * covariates[,\"X1\"] + 3*covariates[,\"X2\"]) / (1 + exp( 2 * covariates[,\"X1\"] + 3*covariates[,\"X2\"]))\n",
    "    Y <- rbinom(n=length(pi_x), size=1, prob=pi_x)\n",
    "}"
   ]
  },
  {
   "cell_type": "markdown",
   "metadata": {},
   "source": [
    "Given some predictions and the true response values, the following function calculates the accuracy, false positive rate, and false negative rate. Let $\\tilde{Y_i}$ be the predicted value (by the KNN model) for the $i$th observation, and let $Y_i$ be the true response. Suppose we have $N$ such observations. Then, recall that these values are defined as follows\n",
    "\n",
    "1. The ErrorRate, (Also called Prediction Error, or 0-1 loss) is the fraction of observations for which we classified incorrectly, and Accuracy is the fraction that we have classified correctly. Mathematically, $ErrorRate = \\frac{1}{N}\\sum_i^N |Y_i - \\tilde{Y_i}|$, and, $Accuracy =$ 1 - ErrorRate. \n",
    "1. FalsePositiveRate = $\\frac{\\text{Number of observations incorrectly marked as $1$}}{\\text{Total number of observations marked as $1$}}$\n",
    "1. FalseNegativeRate = $\\frac{\\text{Number of observations incorrectly marked as $0$}}{\\text{Total number of observations marked as $0$}}$"
   ]
  },
  {
   "cell_type": "code",
   "execution_count": 5,
   "metadata": {
    "ExecuteTime": {
     "end_time": "2019-03-29T15:12:58.165414Z",
     "start_time": "2019-03-29T15:12:55.802Z"
    }
   },
   "outputs": [],
   "source": [
    "evaluate_predictions <- function(predictions, true_value){\n",
    "#     predictions = as.numeric(levels(predictions)[predictions]) #converts from a factor to a numeric 0,1\n",
    "    \n",
    "    true_positives = sum((predictions == true_value) & true_value == 1)\n",
    "    true_negatives = sum((predictions == true_value) & true_value == 0)\n",
    "    \n",
    "    false_positives = sum((predictions != true_value) & true_value == 0)\n",
    "    false_negatives = sum((predictions != true_value) & true_value == 1)\n",
    "\n",
    "    \n",
    "    accuracy = (true_positives + true_negatives)/length(predictions)\n",
    "    false_negative_rate = false_negatives/(false_negatives + true_negatives)\n",
    "    false_positive_rate = false_positives/(false_positives + true_positives)\n",
    "\n",
    "    return(list(Accuracy = accuracy, FPR = false_positive_rate, FNR = false_negative_rate))\n",
    "}"
   ]
  },
  {
   "cell_type": "markdown",
   "metadata": {},
   "source": [
    "## KNN function"
   ]
  },
  {
   "cell_type": "markdown",
   "metadata": {},
   "source": [
    "The following function takes in training data, and its true responses, and makes predictions on the test data. It is parameterized by two values, $K$ and $L$. $K$ is the number of neighbors to consider, and $L$ is the number of neighbors who must be a $1$ to label a given datapoint a $1$. \n",
    "\n",
    "Unfortunately, R doesn't have a native KNN function that takes in a parameter like $L$, and so we use an attribute the native KNN returns indicating what percentage of a point's neighbors are of a certain type."
   ]
  },
  {
   "cell_type": "code",
   "execution_count": 6,
   "metadata": {
    "ExecuteTime": {
     "end_time": "2019-03-29T15:12:58.200439Z",
     "start_time": "2019-03-29T15:12:55.809Z"
    }
   },
   "outputs": [],
   "source": [
    "knn_with_variable_threshold <- function (K, L, train, trueresponse_train, test){\n",
    "    predictions_with_majority_rule = knn(train = train, test = test, cl = trueresponse_train, k = K, l = L, prob = TRUE)\n",
    "    \n",
    "    #default knn returns an attribute called prob that indicates the threshold at which it holds.\n",
    "    probabilities = attr(predictions_with_majority_rule, 'prob')\n",
    "    \n",
    "    #converts from a factor to a numeric 0,1\n",
    "    predictions = as.numeric(levels(predictions_with_majority_rule)[predictions_with_majority_rule]) \n",
    "\n",
    "    #if predicted 1 with less than proper threshold, convert prediction to 0\n",
    "    if (L/K >= .5){\n",
    "        predictions = as.numeric(predictions & (probabilities > L/K))\n",
    "    }\n",
    "    else{     #if predicted 0 with less than proper threshold, convert prediction to 0\n",
    "        predictions = 1-as.numeric((1-predictions) & (probabilities > 1-L/K))\n",
    "    }\n",
    "\n",
    "}"
   ]
  },
  {
   "cell_type": "markdown",
   "metadata": {},
   "source": [
    "## Putting it together\n",
    "\n",
    "Finally, we can write a function that takes in 3 parameters: $K$, $L$, and $N$, and then runs many simulations. In each simulation, we draw training and test data, and then evaluate the performance of the KNN algorithm. "
   ]
  },
  {
   "cell_type": "code",
   "execution_count": 7,
   "metadata": {
    "ExecuteTime": {
     "end_time": "2019-03-29T15:12:58.234444Z",
     "start_time": "2019-03-29T15:12:55.814Z"
    }
   },
   "outputs": [],
   "source": [
    "run_knn <- function(K, L, N = 500){\n",
    "    \n",
    "    M = 100    \n",
    "    train_evals <- data.frame(Accuracy=double(),FPR=double(),FNR=double()) \n",
    "    test_evals <- data.frame(Accuracy=double(),FPR=double(),FNR=double()) \n",
    "\n",
    "    for (i in 1:M){\n",
    "        train = sample_data(N)\n",
    "        trueresponse_train = draw_response(train)\n",
    "#         predictions_train = knn(train = train, test = train, cl = trueresponse_train, k = K, l = L)\n",
    "        predictions_train = knn_with_variable_threshold(train = train, test = train, trueresponse_train = trueresponse_train, K = K, L = L)\n",
    "        \n",
    "        \n",
    "        evaluations_train = evaluate_predictions(predictions_train, trueresponse_train)\n",
    "        \n",
    "        train_evals <- rbind(train_evals, evaluations_train)\n",
    "        \n",
    "        test = sample_data(N)\n",
    "        trueresponse_test = draw_response(test)\n",
    "#         predictions_test = knn(train = train, test = test, cl = trueresponse_train, k = K, l = L)\n",
    "        predictions_test = knn_with_variable_threshold(train = train, test = test, trueresponse_train = trueresponse_train, K = K, L = L)\n",
    "        \n",
    "        evaluations_test = evaluate_predictions(predictions_test, trueresponse_test)\n",
    "        \n",
    "        test_evals <- rbind(test_evals, evaluations_test)\n",
    "    }\n",
    "    return(list(train = train_evals, test = test_evals))\n",
    "}\n",
    "\n"
   ]
  },
  {
   "cell_type": "markdown",
   "metadata": {},
   "source": [
    "# Accuracy as dataset size N varies"
   ]
  },
  {
   "cell_type": "markdown",
   "metadata": {},
   "source": [
    "Here we observe what happens when we increase $N$, the size of the training and test sets, while keeping the other parameters fixed."
   ]
  },
  {
   "cell_type": "code",
   "execution_count": 8,
   "metadata": {
    "ExecuteTime": {
     "end_time": "2019-03-29T15:14:53.784367Z",
     "start_time": "2019-03-29T15:12:55.818Z"
    }
   },
   "outputs": [],
   "source": [
    "train_evals_all <- data.frame(Accuracy=double(),FPR=double(),FNR=double(), N = double())\n",
    "test_evals_all <- data.frame(Accuracy=double(),FPR=double(),FNR=double(), N = double()) \n",
    "\n",
    "K = 100\n",
    "\n",
    "for (N in c(8, 12, c(1:25)*20)){\n",
    "    evaluations <- run_knn(N/2, N/4, N)\n",
    "    evaluations$test[,'N'] = N\n",
    "    evaluations$train[,'N'] = N\n",
    "    train_evals_all <- rbind(train_evals_all,evaluations$train)\n",
    "    test_evals_all <- rbind(test_evals_all,evaluations$test)\n",
    "}\n",
    "\n",
    "train_evals_all$Dataset = 'Train'\n",
    "test_evals_all$Dataset = 'Test'\n",
    "\n",
    "evaluations_all = rbind(train_evals_all,test_evals_all)"
   ]
  },
  {
   "cell_type": "code",
   "execution_count": 9,
   "metadata": {
    "ExecuteTime": {
     "end_time": "2019-03-29T15:14:55.054369Z",
     "start_time": "2019-03-29T15:12:55.826Z"
    }
   },
   "outputs": [
    {
     "data": {},
     "metadata": {},
     "output_type": "display_data"
    },
    {
     "data": {
      "image/png": "[encoded data removed]",
      "text/plain": [
       "plot without title"
      ]
     },
     "metadata": {},
     "output_type": "display_data"
    }
   ],
   "source": [
    "ggplot(data = evaluations_all) + stat_summary(fun.data=mean_cl_boot, geom=\"pointrange\", aes(x = N, y = Accuracy, color = Dataset))"
   ]
  },
  {
   "cell_type": "markdown",
   "metadata": {},
   "source": [
    "We can see that performance, as measured by accuracy, increases with $N$. Before moving on, please make sure you're able to answer the following questions:\n",
    "\n",
    "1. Why is training accuracy consistently higher than test accuracy?\n",
    "1. Why does accuracy increase with $N$?"
   ]
  },
  {
   "cell_type": "markdown",
   "metadata": {},
   "source": [
    "# Accuracy as K varies"
   ]
  },
  {
   "cell_type": "markdown",
   "metadata": {},
   "source": [
    "Here, we fix $N=200$ and vary $K$, fixing the threshold $L = K/2$ (i.e. majority vote). Recall that $K$ is the number of neighbors we consider for each data point. What do you expect to happen to accuracy as $K$ changes?"
   ]
  },
  {
   "cell_type": "code",
   "execution_count": 10,
   "metadata": {
    "ExecuteTime": {
     "end_time": "2019-03-29T15:15:50.782396Z",
     "start_time": "2019-03-29T15:12:55.832Z"
    }
   },
   "outputs": [],
   "source": [
    "train_evals_all <- data.frame(Accuracy=double(),FPR=double(),FNR=double(), k = double())\n",
    "test_evals_all <- data.frame(Accuracy=double(),FPR=double(),FNR=double(), k = double()) \n",
    "\n",
    "for (k in c(2, 4, c(1:40)*5)){\n",
    "    evaluations <- run_knn(k, k/2, 200)\n",
    "    evaluations$test[,'k'] = k\n",
    "    evaluations$train[,'k'] = k\n",
    "    train_evals_all <- rbind(train_evals_all,evaluations$train)\n",
    "    test_evals_all <- rbind(test_evals_all,evaluations$test)\n",
    "}\n",
    "\n",
    "train_evals_all$Dataset = 'Train'\n",
    "test_evals_all$Dataset = 'Test'\n",
    "\n",
    "evaluations_all = rbind(train_evals_all,test_evals_all)"
   ]
  },
  {
   "cell_type": "code",
   "execution_count": 11,
   "metadata": {
    "ExecuteTime": {
     "end_time": "2019-03-29T15:15:54.218428Z",
     "start_time": "2019-03-29T15:12:55.835Z"
    }
   },
   "outputs": [
    {
     "data": {},
     "metadata": {},
     "output_type": "display_data"
    },
    {
     "data": {
      "image/png": "[encoded data removed]",
      "text/plain": [
       "plot without title"
      ]
     },
     "metadata": {},
     "output_type": "display_data"
    }
   ],
   "source": [
    "ggplot(data = evaluations_all) + stat_summary(fun.data=mean_cl_boot, geom=\"pointrange\", aes(x = k, y = Accuracy, color = Dataset))"
   ]
  },
  {
   "cell_type": "markdown",
   "metadata": {
    "ExecuteTime": {
     "end_time": "2018-11-19T21:27:25.710079Z",
     "start_time": "2018-11-19T21:26:29.288Z"
    }
   },
   "source": [
    "Here, we can see that test performance at first _increases_ with $K$, and then starts _decreasing_. On the other hand, the performance on the _train_ set just keeps decreasing with $K$. \n",
    "\n",
    "Before moving on, please ensure that you can answer the following questions:\n",
    "1. What explains the pattern in the test set?\n",
    "1. What explains the different pattern in the training set? (Hint: When K=1, i.e. we only look at 1 point, what happens? For a given point in the training set, what is the closest point to it that's also in the training set?)."
   ]
  },
  {
   "cell_type": "markdown",
   "metadata": {},
   "source": [
    "# False positives, negatives, and accuracy as L changes"
   ]
  },
  {
   "cell_type": "markdown",
   "metadata": {},
   "source": [
    "Finally, we fix $N= 200, K = 100$, and then vary $L$, the number of neighbors required to be a $1$ before we declare a point to be a $1$. Intuitively, $L$ affects performance as follows: when it is higher than $K/2$, then we require more than half of the neighbors to be a $1$ before declaring it a $1$, as opposed to less than half of its neighbors to declare it a $0$. This makes false positives rarer. "
   ]
  },
  {
   "cell_type": "code",
   "execution_count": 12,
   "metadata": {
    "ExecuteTime": {
     "end_time": "2019-03-29T15:16:25.092249Z",
     "start_time": "2019-03-29T15:12:55.842Z"
    }
   },
   "outputs": [],
   "source": [
    "train_evals_all <- data.frame(Accuracy=double(),FPR=double(),FNR=double(), l = double())\n",
    "test_evals_all <- data.frame(Accuracy=double(),FPR=double(),FNR=double(), l = double()) \n",
    "\n",
    "for (L in c(0:20)*5){\n",
    "    evaluations <- run_knn(100, L, 200)\n",
    "    evaluations$test[,'L'] = L\n",
    "    evaluations$train[,'L'] = L\n",
    "    train_evals_all <- rbind(train_evals_all,evaluations$train)\n",
    "    test_evals_all <- rbind(test_evals_all,evaluations$test)\n",
    "}\n",
    "\n",
    "train_evals_all$Dataset = 'Train'\n",
    "test_evals_all$Dataset = 'Test'\n",
    "\n",
    "evaluations_all = rbind(train_evals_all,test_evals_all)"
   ]
  },
  {
   "cell_type": "markdown",
   "metadata": {},
   "source": [
    "### False Negative Rate"
   ]
  },
  {
   "cell_type": "code",
   "execution_count": 13,
   "metadata": {
    "ExecuteTime": {
     "end_time": "2019-03-29T15:16:26.006710Z",
     "start_time": "2019-03-29T15:12:55.847Z"
    }
   },
   "outputs": [
    {
     "data": {},
     "metadata": {},
     "output_type": "display_data"
    },
    {
     "data": {
      "image/png": "[encoded data removed]",
      "text/plain": [
       "plot without title"
      ]
     },
     "metadata": {},
     "output_type": "display_data"
    }
   ],
   "source": [
    "ggplot(data = evaluations_all) + stat_summary(fun.data=mean_cl_boot, geom=\"pointrange\", aes(x = L, y = FNR, color = Dataset))"
   ]
  },
  {
   "cell_type": "markdown",
   "metadata": {
    "ExecuteTime": {
     "end_time": "2018-11-19T21:12:08.650771Z",
     "start_time": "2018-11-19T21:11:42.329Z"
    },
    "scrolled": false
   },
   "source": [
    "The above plot shows the False Negative Rate (FNR) with $L$. Before moving on, be able to answer the following:\n",
    "\n",
    "1. Why is FNR $0$ when $L=0$?\n",
    "1. Why is FNR near $.5$ when $L = K = 100$?"
   ]
  },
  {
   "cell_type": "markdown",
   "metadata": {},
   "source": [
    "### False Positive Rate"
   ]
  },
  {
   "cell_type": "code",
   "execution_count": 14,
   "metadata": {
    "ExecuteTime": {
     "end_time": "2019-03-29T15:16:27.545684Z",
     "start_time": "2019-03-29T15:12:55.851Z"
    }
   },
   "outputs": [
    {
     "data": {},
     "metadata": {},
     "output_type": "display_data"
    },
    {
     "data": {
      "image/png": "[encoded data removed]",
      "text/plain": [
       "plot without title"
      ]
     },
     "metadata": {},
     "output_type": "display_data"
    }
   ],
   "source": [
    "ggplot(data = evaluations_all) + stat_summary(fun.data=mean_cl_boot, geom=\"pointrange\", aes(x = L, y = FPR, color = Dataset))"
   ]
  },
  {
   "cell_type": "markdown",
   "metadata": {},
   "source": [
    "The above shows the False Positive Rate (FPR) as $L$ increases. Before moving on, think about why we observe the opposite behavior as we did in the FNR case."
   ]
  },
  {
   "cell_type": "markdown",
   "metadata": {},
   "source": [
    "### Trade-off between False Positive Rate and False Negative Rate"
   ]
  },
  {
   "cell_type": "markdown",
   "metadata": {},
   "source": [
    "We can put the two plots above together into a single plot, and show how FNR and FPR tradeoff with one another."
   ]
  },
  {
   "cell_type": "code",
   "execution_count": 15,
   "metadata": {
    "ExecuteTime": {
     "end_time": "2019-03-29T15:16:29.703688Z",
     "start_time": "2019-03-29T15:12:55.856Z"
    }
   },
   "outputs": [
    {
     "data": {},
     "metadata": {},
     "output_type": "display_data"
    },
    {
     "data": {
      "image/png": "[encoded data removed]",
      "text/plain": [
       "plot without title"
      ]
     },
     "metadata": {},
     "output_type": "display_data"
    }
   ],
   "source": [
    "tradeoff <- evaluations_all[evaluations_all$Dataset == 'Test',c('FNR', 'FPR', \"L\")]\n",
    "tradeoff <-aggregate(tradeoff, by=list(tradeoff$L), \n",
    "  FUN=mean, na.rm=TRUE)\n",
    "tradeoff$label = paste(\"L = \", tradeoff$L, sep=\"\") \n",
    "ggplot(data = tradeoff) + geom_point(aes(x = FNR, y = FPR, label = L)) + geom_label_repel(aes(x = FNR, y = FPR,label = label))"
   ]
  },
  {
   "cell_type": "markdown",
   "metadata": {
    "ExecuteTime": {
     "end_time": "2018-11-20T00:09:33.154285Z",
     "start_time": "2018-11-20T00:09:33.121Z"
    }
   },
   "source": [
    "A plot like the above shows how FPR trades off with FNR -- if you want to decrease FNR, you must accept an increased FPR. Please be able to answer the following questions:\n",
    "\n",
    "1. Suppose false positives are twice as costly to your company as false negatives. Which $L$ would you choose?\n",
    "1. Suppose false positives are half as costly to your company as false negatives. Which $L$ would you choose?"
   ]
  },
  {
   "cell_type": "markdown",
   "metadata": {},
   "source": [
    "### Accuracy as L changes"
   ]
  },
  {
   "cell_type": "markdown",
   "metadata": {},
   "source": [
    "Finally, we can see how accuracy changes with $L$."
   ]
  },
  {
   "cell_type": "code",
   "execution_count": 16,
   "metadata": {
    "ExecuteTime": {
     "end_time": "2019-03-29T15:16:30.888682Z",
     "start_time": "2019-03-29T15:12:55.863Z"
    }
   },
   "outputs": [
    {
     "data": {},
     "metadata": {},
     "output_type": "display_data"
    },
    {
     "data": {
      "image/png": "[encoded data removed]",
      "text/plain": [
       "plot without title"
      ]
     },
     "metadata": {},
     "output_type": "display_data"
    }
   ],
   "source": [
    "ggplot(data = evaluations_all) + stat_summary(fun.data=mean_cl_boot, geom=\"pointrange\", aes(x = L, y = Accuracy, color = Dataset))"
   ]
  },
  {
   "cell_type": "markdown",
   "metadata": {},
   "source": [
    "1. Why is accuracy maximized at $L = K/2 = 50$?"
   ]
  }
 ],
 "metadata": {
  "kernelspec": {
   "display_name": "R",
   "language": "R",
   "name": "ir"
  },
  "language_info": {
   "codemirror_mode": "r",
   "file_extension": ".r",
   "mimetype": "text/x-r-source",
   "name": "R",
   "pygments_lexer": "r",
   "version": "3.5.1"
  },
  "varInspector": {
   "cols": {
    "lenName": 16,
    "lenType": 16,
    "lenVar": 40
   },
   "kernels_config": {
    "python": {
     "delete_cmd_postfix": "",
     "delete_cmd_prefix": "del ",
     "library": "var_list.py",
     "varRefreshCmd": "print(var_dic_list())"
    },
    "r": {
     "delete_cmd_postfix": ") ",
     "delete_cmd_prefix": "rm(",
     "library": "var_list.r",
     "varRefreshCmd": "cat(var_dic_list()) "
    }
   },
   "types_to_exclude": [
    "module",
    "function",
    "builtin_function_or_method",
    "instance",
    "_Feature"
   ],
   "window_display": false
  }
 },
 "nbformat": 4,
 "nbformat_minor": 2
}
